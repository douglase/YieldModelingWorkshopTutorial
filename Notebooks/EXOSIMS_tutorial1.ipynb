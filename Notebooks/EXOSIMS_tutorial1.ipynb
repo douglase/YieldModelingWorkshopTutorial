{
 "cells": [
  {
   "cell_type": "code",
   "execution_count": null,
   "id": "0a421748-da06-4bd2-81e3-45483a32adf0",
   "metadata": {},
   "outputs": [],
   "source": [
    "# import all of the packages we're going to use\n",
    "import matplotlib.pyplot as plt\n",
    "import numpy as np\n",
    "import copy\n",
    "import EXOSIMS.MissionSim\n",
    "import astropy.units as u\n",
    "import scipy\n",
    "from matplotlib import ticker"
   ]
  },
  {
   "cell_type": "code",
   "execution_count": null,
   "id": "b10b6da2-5b7f-4c0e-85c1-59cdb842d59c",
   "metadata": {},
   "outputs": [],
   "source": [
    "# set up plotting\n",
    "%matplotlib widget"
   ]
  },
  {
   "cell_type": "markdown",
   "id": "b74266c0-c689-4c20-b40c-1414edbb07a2",
   "metadata": {},
   "source": [
    "# 1. Building and Interacting with Simulation Objects\n",
    "\n",
    "In order to create a mission simulation, we need an input specification.  Let's define one with all default values, except for a real input star catalog:"
   ]
  },
  {
   "cell_type": "code",
   "execution_count": null,
   "id": "95159945-420b-48e8-937c-7b794e1ca4f0",
   "metadata": {},
   "outputs": [],
   "source": [
    "specs = {\n",
    " \"modules\": {\n",
    " \"PlanetPopulation\": \" \",\n",
    " \"StarCatalog\": \"HWOMissionStars\",\n",
    " \"OpticalSystem\": \" \",\n",
    " \"ZodiacalLight\": \" \",\n",
    " \"BackgroundSources\": \" \",\n",
    " \"PlanetPhysicalModel\": \" \",\n",
    " \"Observatory\": \" \",\n",
    " \"TimeKeeping\": \" \",\n",
    " \"PostProcessing\": \" \",\n",
    " \"Completeness\": \" \",\n",
    " \"TargetList\": \" \",\n",
    " \"SimulatedUniverse\": \" \",\n",
    " \"SurveySimulation\": \" \",\n",
    " \"SurveyEnsemble\": \" \"\n",
    " }\n",
    "}"
   ]
  },
  {
   "cell_type": "markdown",
   "id": "ac0ef6a1-09d2-4729-a892-cea1f2ca18f6",
   "metadata": {},
   "source": [
    "We now create a `MissionSim` object, which will automatically build and pre-compute all the quantities we need to simulate a mission:"
   ]
  },
  {
   "cell_type": "code",
   "execution_count": null,
   "id": "4d8f9e08-03f4-4b99-994d-b5f19f17ca05",
   "metadata": {},
   "outputs": [],
   "source": [
    "sim = EXOSIMS.MissionSim.MissionSim(**copy.deepcopy(specs))"
   ]
  },
  {
   "cell_type": "markdown",
   "id": "8d262218-ec50-4f52-9a78-6d2214bbfe21",
   "metadata": {},
   "source": [
    "Note that a *lot* of defaults have been set. Let's take a look at some of the default values being used:"
   ]
  },
  {
   "cell_type": "code",
   "execution_count": null,
   "id": "68e2fd9b-0b81-4a03-8ccb-c664d61fbb5a",
   "metadata": {},
   "outputs": [],
   "source": [
    "print(f\"Pupil Diameter: {sim.OpticalSystem.pupilDiam}\")\n",
    "print(f\"Single-observation integration time limit: {sim.OpticalSystem.intCutoff}\")\n",
    "print(f\"Observing mode central wavelength: {sim.OpticalSystem.observingModes[0]['lam']}\") \n",
    "print(f\"Observing mode IWA/OWA: {sim.OpticalSystem.observingModes[0]['IWA']}/{sim.OpticalSystem.observingModes[0]['OWA']}\")"
   ]
  },
  {
   "cell_type": "markdown",
   "id": "1d700518-9b72-4969-82c8-5bc93ff0b5a2",
   "metadata": {},
   "source": [
    "We can also see what kind of contrast and throughput we're expecting.  These are both functions of wavelength and angular separation - we'll check at the central wavelength and inner working angle:"
   ]
  },
  {
   "cell_type": "code",
   "execution_count": null,
   "id": "5ac68fc7-6c9b-4825-8370-ccc8217cab7f",
   "metadata": {},
   "outputs": [],
   "source": [
    "print(\"Starlight Suppression system contrast @0.1 arcsec: \"\n",
    "      f\"{sim.OpticalSystem.starlightSuppressionSystems[0]['core_contrast'](500*u.nm, 0.1*u.arcsec)[0] :.2e}\")\n",
    "print(\"Starlight Suppression system core throughput @0.1 arcsec: \"\n",
    "      f\"{sim.OpticalSystem.starlightSuppressionSystems[0]['core_thruput'](500*u.nm, 0.1*u.arcsec)[0]}\")"
   ]
  },
  {
   "cell_type": "markdown",
   "id": "b6b534bd-f4b2-4d4f-beb5-fac9bc263a3a",
   "metadata": {},
   "source": [
    "We can also get some information about our science instrument:"
   ]
  },
  {
   "cell_type": "code",
   "execution_count": null,
   "id": "9694e659-8f16-43aa-bd4f-9e5f4930252f",
   "metadata": {},
   "outputs": [],
   "source": [
    "print(\"Science Instrument QE @500 nm: \"\n",
    "      f\"{sim.OpticalSystem.scienceInstruments[0]['QE'](500*u.nm)[0]}\")\n",
    "print(f\"Science Instrument pixel scale: {sim.OpticalSystem.scienceInstruments[0]['pixelScale']}\")\n",
    "print(f\"Science Instrument dark current: {sim.OpticalSystem.scienceInstruments[0]['idark']}\")\n",
    "print(f\"Science Instrument read noise (e): {sim.OpticalSystem.scienceInstruments[0]['sread']}\")"
   ]
  },
  {
   "cell_type": "markdown",
   "id": "de3d0d0f-2a35-4dc8-86ba-44d8db785337",
   "metadata": {},
   "source": [
    "Let's also take a look at our target list:"
   ]
  },
  {
   "cell_type": "code",
   "execution_count": null,
   "id": "8ec326a7-e928-4342-944e-2ef4e2dc4e55",
   "metadata": {},
   "outputs": [],
   "source": [
    "print(f\"Number of targets: {sim.TargetList.nStars}\")\n",
    "print(f\"Min/Max Target V mag: {sim.TargetList.Vmag.min()}/{sim.TargetList.Vmag.max()}\")\n",
    "print(f\"Min/Max Target distance: {sim.TargetList.dist.min()}/{sim.TargetList.dist.max()}\")"
   ]
  },
  {
   "cell_type": "markdown",
   "id": "7e3196f3-08ee-4f36-8ec0-9519632e29cc",
   "metadata": {},
   "source": [
    "If you read the HWO Mission star list documentation, you'll notice that it includes 163 targets.  Why are only 134 included here?  Let's ask the code to explain:"
   ]
  },
  {
   "cell_type": "code",
   "execution_count": null,
   "id": "b0a676cd-faaf-4d64-bc67-cfc43e0b8aba",
   "metadata": {},
   "outputs": [],
   "source": [
    "specs[\"explainFiltering\"] = True\n",
    "sim = EXOSIMS.MissionSim.MissionSim(**copy.deepcopy(specs))"
   ]
  },
  {
   "cell_type": "markdown",
   "id": "2a544309-08ee-4c3b-8840-8c18b25aedc9",
   "metadata": {},
   "source": [
    "~30 of the targets have bright companions within 10 arcsec, and are removed by default.  We can prevent this, if desired:"
   ]
  },
  {
   "cell_type": "code",
   "execution_count": null,
   "id": "1bcae34f-2a7c-4ee8-ba7f-64e55846cbc1",
   "metadata": {},
   "outputs": [],
   "source": [
    "specs[\"filterBinaries\"] = False\n",
    "sim = EXOSIMS.MissionSim.MissionSim(**copy.deepcopy(specs))"
   ]
  },
  {
   "cell_type": "code",
   "execution_count": null,
   "id": "772a4bef-db6a-4514-ac77-21e9a226bce4",
   "metadata": {},
   "outputs": [],
   "source": [
    "print(f\"Number of targets: {sim.TargetList.nStars}\")\n",
    "print(f\"Min/Max Target V mag: {sim.TargetList.Vmag.min()}/{sim.TargetList.Vmag.max()}\")\n",
    "print(f\"Min/Max Target distance: {sim.TargetList.dist.min()}/{sim.TargetList.dist.max()}\")"
   ]
  },
  {
   "cell_type": "markdown",
   "id": "b9368017-6854-4e71-9b54-96978f429eaa",
   "metadata": {},
   "source": [
    "# 2. Target Achievable $\\Delta$mag Values\n",
    "\n",
    "We can now see how all of these translate to achievable $\\Delta\\textrm{mag}$ values for our target list.  We'll look at the maximum integration time value and the saturation value (effectively infinite integration time):"
   ]
  },
  {
   "cell_type": "code",
   "execution_count": null,
   "id": "1507c48d-5279-44fc-87c4-2e4d9e5c7580",
   "metadata": {},
   "outputs": [],
   "source": [
    "TL = sim.TargetList\n",
    "inds = np.argsort(TL.Vmag)\n",
    "plt.figure()\n",
    "plt.scatter(TL.Vmag[inds], TL.intCutoff_dMag[inds], label=\"Max. Int Time $\\\\Delta$mag\")\n",
    "plt.scatter(TL.Vmag[inds], TL.saturation_dMag[inds], label=\"Saturation $\\\\Delta$mag\")\n",
    "plt.legend()"
   ]
  },
  {
   "cell_type": "markdown",
   "id": "b96f0c06-df0a-46a5-90b4-63c9c4cefc6e",
   "metadata": {},
   "source": [
    "That's odd.  I thought we had $10^{-10}$ contrast. Why are we saturating at only a bit above 23 and not closer to 25 $\\Delta\\textrm{mag}$? \n",
    "\n",
    "The reason is that our integration time model assumes a noise floor set by the residual starlight leaking through the coronagraph. This is attenuated by an assumed post-processing gain. There is also a stability factor that models overall PSF stability. Let's see what that these values default to:"
   ]
  },
  {
   "cell_type": "code",
   "execution_count": null,
   "id": "15bea1a2-bd2e-41ea-a237-1d0aee25b484",
   "metadata": {},
   "outputs": [],
   "source": [
    "print(f\"Post-Processing gain: {TL.PostProcessing._outspec['ppFact']}\")\n",
    "print(f\"Stability Factor: {TL.OpticalSystem.stabilityFact}\")"
   ]
  },
  {
   "cell_type": "markdown",
   "id": "a03bc4a8-a0c5-4de0-96ce-4166bfa34163",
   "metadata": {},
   "source": [
    "Well, that's the problem right there.  We're not attenuating the residual speckle at all.  Let's fix that and see how it changes things.  We'll assume that we can beat down the speckle residual (via some form of post-processing) by a factor of 10:"
   ]
  },
  {
   "cell_type": "code",
   "execution_count": null,
   "id": "c73a1e6e-3db6-43d0-aa9f-ffefac35ffde",
   "metadata": {},
   "outputs": [],
   "source": [
    "specs[\"ppFact\"] = 0.1\n",
    "sim = EXOSIMS.MissionSim.MissionSim(**copy.deepcopy(specs))"
   ]
  },
  {
   "cell_type": "code",
   "execution_count": null,
   "id": "01ddd5bb-0b16-4426-8535-7999652fcd6e",
   "metadata": {},
   "outputs": [],
   "source": [
    "TL = sim.TargetList\n",
    "inds = np.argsort(TL.Vmag)\n",
    "plt.figure()\n",
    "plt.scatter(TL.Vmag[inds], TL.intCutoff_dMag[inds], label=\"Max. Int Time $\\\\Delta$mag\")\n",
    "plt.scatter(TL.Vmag[inds], TL.saturation_dMag[inds], label=\"Saturation $\\\\Delta$mag\")\n",
    "plt.legend()\n",
    "plt.xlabel(\"V magnitude\")\n",
    "plt.ylabel(\"$\\\\Delta$mag\");"
   ]
  },
  {
   "cell_type": "markdown",
   "id": "8c99e568-33f7-4afd-9c64-042878b0f5c7",
   "metadata": {},
   "source": [
    "Much better! "
   ]
  },
  {
   "cell_type": "markdown",
   "id": "8e2718b1-1871-4d2e-9cb4-f8a144d6caa2",
   "metadata": {},
   "source": [
    "# 3. Planet Populations\n",
    "\n",
    "Now let's take a look at what kind of synthetic planets we're creating:"
   ]
  },
  {
   "cell_type": "code",
   "execution_count": null,
   "id": "f95ec9e3-b6af-48bd-8806-c1dd61cdd882",
   "metadata": {},
   "outputs": [],
   "source": [
    "print(f\"Assumed occurrence rate: {sim.PlanetPopulation.eta}\")\n",
    "print(f\"Number of stars in target list: {sim.TargetList.nStars}\")\n",
    "print(f\"Number of planets in synthetic universe: {sim.SimulatedUniverse.nPlans}\")"
   ]
  },
  {
   "cell_type": "markdown",
   "id": "b66f4561-8d0b-4626-a415-87b6f12a80d8",
   "metadata": {},
   "source": [
    "Q: Why is the number of planets not exactly equal to $\\eta N_\\textrm{stars}$? \n",
    "\n",
    "A: Because we treat $\\eta$ as the rate parameter of a Poisson random variable.  \n",
    "\n",
    "We're not producing a lot of planets, so for visualization purposes, let's increase the occurrence rate:"
   ]
  },
  {
   "cell_type": "code",
   "execution_count": null,
   "id": "c4c74311-0a3d-4a20-a890-dab37e3b33a9",
   "metadata": {},
   "outputs": [],
   "source": [
    "specs[\"eta\"] = 3\n",
    "sim = EXOSIMS.MissionSim.MissionSim(**copy.deepcopy(specs))\n",
    "print(f\"Assumed occurrence rate: {sim.PlanetPopulation.eta}\")\n",
    "print(f\"Number of stars in target list: {sim.TargetList.nStars}\")\n",
    "print(f\"Number of planets in synthetic universe: {sim.SimulatedUniverse.nPlans}\")"
   ]
  },
  {
   "cell_type": "markdown",
   "id": "9840042e-a818-43df-9068-1abbdd3f149a",
   "metadata": {},
   "source": [
    "Let's take a look at some of the planets' physical and orbital attributes:"
   ]
  },
  {
   "cell_type": "code",
   "execution_count": null,
   "id": "1561e1b6-6dc6-41aa-a015-9a3d004f674e",
   "metadata": {},
   "outputs": [],
   "source": [
    "fig, ax = plt.subplots()\n",
    "pts = ax.scatter(sim.SimulatedUniverse.a, sim.SimulatedUniverse.Mp, s = sim.SimulatedUniverse.Rp, c = sim.SimulatedUniverse.Rp)\n",
    "ax.set_xscale(\"log\")\n",
    "ax.set_yscale(\"log\")\n",
    "ax.set_ylabel(f\"Planet Mass [{sim.SimulatedUniverse.Mp.unit}]\")\n",
    "ax.set_xlabel(f\"Semi-Major Axis [{sim.SimulatedUniverse.a.unit}]\");\n",
    "plt.colorbar(pts,label=f\"Planet Radius [{sim.SimulatedUniverse.Rp.unit}]\");"
   ]
  },
  {
   "cell_type": "markdown",
   "id": "a35aa805-0448-4a10-8b8e-bf47208a6f89",
   "metadata": {},
   "source": [
    "That seems like a really odd-looking planet population.  Because we haven't selected a specific planet population to model, planets were generated using log-normal distributions for mass and semi-major axis, and the planet radius is decoupled from the planet mass.  This is obviously non-physical (although occasionally useful for various testing purposes) - let's dial in a real planet population. We'll use the population defined by the SAG13 final report:"
   ]
  },
  {
   "cell_type": "code",
   "execution_count": null,
   "id": "ee65fff3-45bc-41a1-8768-2b774bb55f23",
   "metadata": {},
   "outputs": [],
   "source": [
    "specs[\"modules\"][\"PlanetPopulation\"] = \"SAG13\"\n",
    "specs[\"modules\"][\"SimulatedUniverse\"] = \"SAG13Universe\"\n",
    "sim = EXOSIMS.MissionSim.MissionSim(**copy.deepcopy(specs))\n",
    "print(f\"Assumed occurrence rate: {sim.PlanetPopulation.eta}\")\n",
    "print(f\"Number of stars in target list: {sim.TargetList.nStars}\")\n",
    "print(f\"Number of planets in synthetic universe: {sim.SimulatedUniverse.nPlans}\")"
   ]
  },
  {
   "cell_type": "markdown",
   "id": "82637b52-426f-453d-94a5-66e8ab9f2439",
   "metadata": {},
   "source": [
    "Note that our previously set $\\eta$ input was ignored and overwritten by this particular family of modules. "
   ]
  },
  {
   "cell_type": "code",
   "execution_count": null,
   "id": "56b9ed6a-9d3b-4df1-9cdd-22f43a2dbe4f",
   "metadata": {},
   "outputs": [],
   "source": [
    "fig, ax = plt.subplots()\n",
    "pts = ax.scatter(sim.SimulatedUniverse.a, sim.SimulatedUniverse.Mp, s = sim.SimulatedUniverse.Rp, c = sim.SimulatedUniverse.Rp)\n",
    "ax.set_xscale(\"log\")\n",
    "ax.set_yscale(\"log\")\n",
    "ax.set_ylabel(f\"Planet Mass [{sim.SimulatedUniverse.Mp.unit}]\")\n",
    "ax.set_xlabel(f\"Semi-Major Axis [{sim.SimulatedUniverse.a.unit}]\");\n",
    "plt.colorbar(pts,label=f\"Planet Radius [{sim.SimulatedUniverse.Rp.unit}]\");"
   ]
  },
  {
   "cell_type": "markdown",
   "id": "c3da47b7-66f8-49c9-9489-acc539e5b2fb",
   "metadata": {},
   "source": [
    "We are now generating planets with self-consistent masses and radii, and generating significantly more Earth-mass objects than Jovian-mass objects. However, the original SAG13 population is only defined for relatively short-period planets.  We can see the exact range of semi-major axes we're generating:"
   ]
  },
  {
   "cell_type": "code",
   "execution_count": null,
   "id": "3aa58ea0-0a07-45a8-a425-b176edee192e",
   "metadata": {},
   "outputs": [],
   "source": [
    "print(f\"Semi-major axis range: {sim.PlanetPopulation.arange}\")"
   ]
  },
  {
   "cell_type": "markdown",
   "id": "1706f464-7d32-4f4c-a975-e19af77a5ab9",
   "metadata": {},
   "source": [
    "Let's extrapolate a bit:"
   ]
  },
  {
   "cell_type": "code",
   "execution_count": null,
   "id": "c43ee653-5240-465e-9001-b3d274a2996c",
   "metadata": {},
   "outputs": [],
   "source": [
    "specs[\"arange\"] = [0.09084645, 30]\n",
    "specs[\"smaknee\"] = 10\n",
    "sim = EXOSIMS.MissionSim.MissionSim(**copy.deepcopy(specs))\n",
    "print(f\"Assumed occurrence rate: {sim.PlanetPopulation.eta}\")\n",
    "print(f\"Number of stars in target list: {sim.TargetList.nStars}\")\n",
    "print(f\"Number of planets in synthetic universe: {sim.SimulatedUniverse.nPlans}\")"
   ]
  },
  {
   "cell_type": "code",
   "execution_count": null,
   "id": "037ac11b-965a-423e-b7c8-49d60b18564b",
   "metadata": {},
   "outputs": [],
   "source": [
    "fig, ax = plt.subplots()\n",
    "pts = ax.scatter(sim.SimulatedUniverse.a, sim.SimulatedUniverse.Mp, s = sim.SimulatedUniverse.Rp, c = sim.SimulatedUniverse.Rp)\n",
    "ax.set_xscale(\"log\")\n",
    "ax.set_yscale(\"log\")\n",
    "ax.set_ylabel(f\"Planet Mass [{sim.SimulatedUniverse.Mp.unit}]\")\n",
    "ax.set_xlabel(f\"Semi-Major Axis [{sim.SimulatedUniverse.a.unit}]\");\n",
    "plt.colorbar(pts,label=f\"Planet Radius [{sim.SimulatedUniverse.Rp.unit}]\");"
   ]
  },
  {
   "cell_type": "markdown",
   "id": "10c25fe1-c4ba-4ca0-a25f-2c891dd117aa",
   "metadata": {},
   "source": [
    "Note that even though we permitted the semi-major axis range to go all the way to 30 AU, we're not generating planets out there.  That's because this implementation includes an exponential drop-off past the separation set by the ``smaknee`` parameter, which we set to 10 AU."
   ]
  },
  {
   "cell_type": "markdown",
   "id": "e09dcf57-b680-45c7-a238-d18cde73372f",
   "metadata": {},
   "source": [
    "# 4. Completeness\n",
    "\n",
    "At this point, we have a (somewhat) reasonable-looking set of synthetic planets, a target list, and a workable optical system.  The last element we're missing is the ability compute completeness.  So far, we have been utilizing the prototype completeness modules, which doesn't actually compute real completeness values (in the interest of execution time):"
   ]
  },
  {
   "cell_type": "code",
   "execution_count": null,
   "id": "d30d540f-1ca6-4c50-b759-a55aa3052f2c",
   "metadata": {},
   "outputs": [],
   "source": [
    "sim.TargetList.int_comp"
   ]
  },
  {
   "cell_type": "markdown",
   "id": "823a7dad-d2cb-4194-8b1b-4bb93a27b0bd",
   "metadata": {},
   "source": [
    "Let's replace this with a real completeness calculation, and also limit ourselves to a somewhat restricted field of view:"
   ]
  },
  {
   "cell_type": "code",
   "execution_count": null,
   "id": "69a18fa7-0a3f-4415-9f3c-2741635e9aa0",
   "metadata": {},
   "outputs": [],
   "source": [
    "specs[\"modules\"][\"Completeness\"] = \"BrownCompleteness\" # Monte Carlo-based calculation\n",
    "specs[\"FoV\"] = 2.0 # arcseconds\n",
    "sim = EXOSIMS.MissionSim.MissionSim(**copy.deepcopy(specs))"
   ]
  },
  {
   "cell_type": "markdown",
   "id": "5cc9b7c8-46c6-494f-a736-d43d16a7374f",
   "metadata": {},
   "source": [
    "We can now look at what kind of completeness values we can achieve for our target list.  We'll consider the case of integrating to a nominal $\\Delta$mag (defaulting to 25) for each target, and the case of integrating for an effectively infinite amount of time:"
   ]
  },
  {
   "cell_type": "code",
   "execution_count": null,
   "id": "6f9cd185-bc28-4dbf-8d03-2b57353998f2",
   "metadata": {},
   "outputs": [],
   "source": [
    "TL = sim.TargetList\n",
    "inds = np.argsort(TL.dist)\n",
    "plt.figure()\n",
    "plt.scatter(TL.dist[inds], TL.int_comp[inds], label=\"Nominal integraton time completeness\")\n",
    "plt.scatter(TL.dist[inds], TL.saturation_comp[inds], label=\"Saturation completeness\")\n",
    "plt.legend()\n",
    "plt.xlabel(f\"Distance {TL.dist.unit}\")\n",
    "plt.ylabel(\"Completeness\");"
   ]
  },
  {
   "cell_type": "markdown",
   "id": "2230ef47-ba99-4a5f-a445-556ff70ba167",
   "metadata": {},
   "source": [
    "This gives us a sense of how the completeness behaves as a function of integration time for two data points.  We can also look in more detail for a particular target.  Let's pick a somewhat bright star beyond 5 parsecs:"
   ]
  },
  {
   "cell_type": "code",
   "execution_count": null,
   "id": "5f686581-0a49-4b18-bdc0-7b65ffa3b73d",
   "metadata": {},
   "outputs": [],
   "source": [
    "sInd = np.where((TL.Vmag <= 7) & (TL.dist >= 5*u.pc))[0][0]\n",
    "print(f\"We'll be focusing on {TL.Name[sInd]}.\")\n",
    "print(f\"This target has a V mag of {TL.Vmag[sInd]} and is {TL.dist[sInd]} from Earth.\")\n",
    "print(f\"This target has a saturation dMag of {TL.saturation_dMag[sInd] :.2f}, \"\n",
    "      f\"and requires {TL.int_tmin[sInd].to(u.h) :.2f} of integration to get to a dMag \"\n",
    "      f\"of {TL.int_dMag[sInd]}\")"
   ]
  },
  {
   "cell_type": "markdown",
   "id": "8a1f1c3c-9616-4fe1-85dc-55f98e93da1d",
   "metadata": {},
   "source": [
    "Let's take a look at how instrumental constraints interact with the planet population for this target:"
   ]
  },
  {
   "cell_type": "code",
   "execution_count": null,
   "id": "03d0d83a-a007-4f15-af9b-489a69e3d1b7",
   "metadata": {},
   "outputs": [],
   "source": [
    "fig = plt.figure()\n",
    "ax = fig.add_subplot(111)\n",
    "cs = ax.contourf(\n",
    "    TL.Completeness.xnew,\n",
    "    TL.Completeness.ynew,\n",
    "    TL.Completeness.Cpdf,\n",
    "    locator=ticker.LogLocator(),\n",
    ")\n",
    "ax.set_xlabel(\"Separation (AU)\")\n",
    "ax.set_ylabel(\"$\\Delta$mag\")\n",
    "cbar = fig.colorbar(cs)\n",
    "cbar.ax.set_title(\"log$_{10}(f_{\\Delta\\\\mathrm{mag},s})$\")\n",
    "projIWA = np.tan(TL.default_mode[\"IWA\"])*TL.dist[sInd]\n",
    "projOWA = np.tan(TL.default_mode[\"OWA\"])*TL.dist[sInd]\n",
    "ax.plot([projIWA.to(u.AU).value] * 2, [10, 50], \"--\", label=\"IWA\")\n",
    "ax.plot([projOWA.to(u.AU).value] * 2, [10, 50], \"--\", label=\"OWA\")\n",
    "ax.plot([projIWA.to(u.AU).value,projOWA.to(u.AU).value], [TL.int_dMag[sInd]]*2, label=\"Nominal integration dMag\")\n",
    "ax.plot([projIWA.to(u.AU).value,projOWA.to(u.AU).value], [TL.saturation_dMag[sInd]]*2, label=\"Nominal integration dMag\")\n",
    "plt.legend()\n",
    "ax.set_xlim([0,30])\n",
    "ax.set_ylim([10, 50]);"
   ]
  },
  {
   "cell_type": "markdown",
   "id": "8c9ed170-7f62-4261-ad15-55278e0cba90",
   "metadata": {},
   "source": [
    "The heat map represents the 2D joint probability density function of this population's projected separation and delta magnitude.  The lines represent instrumental limits. Note that the $\\Delta$mag curves are straight lines because the default starlight-suppression system values use the same contrast and throughput values for all separations between the inner and outer working angles."
   ]
  },
  {
   "cell_type": "markdown",
   "id": "4cf94fd4-9589-45f0-aeb4-e4d2fdfc2dcb",
   "metadata": {},
   "source": [
    "We'll now compute integration times for a range of $\\Delta$mag values and also confirm that the saturation $\\Delta$mag is correct:"
   ]
  },
  {
   "cell_type": "code",
   "execution_count": null,
   "id": "3961427b-c44c-48a2-a18e-bbaeca4838af",
   "metadata": {},
   "outputs": [],
   "source": [
    "dMags1 = np.linspace(17, TL.saturation_dMag[sInd] + 0.1, 100) # target delta mag values\n",
    "sInds = np.array([sInd] * len(dMags1))\n",
    "fZ = [TL.ZodiacalLight.fZ0.value] * len(dMags1) * TL.ZodiacalLight.fZ0.unit # local zodiacal light\n",
    "fEZ = [TL.ZodiacalLight.fEZ0.value] * len(dMags1) * TL.ZodiacalLight.fEZ0.unit # exo-zodiacal light\n",
    "mode = TL.OpticalSystem.observingModes[0] # observing mode\n",
    "WAs = [TL.int_WA[sInd].value] * len(sInds) * TL.int_WA.unit # use coronagraph parameters at this nominal separation\n",
    "intTimes1 = TL.OpticalSystem.calc_intTime(TL, sInds, fZ, fEZ, dMags1, WAs, mode)\n",
    "\n",
    "plt.figure()\n",
    "plt.semilogy(dMags1, intTimes1)\n",
    "plt.xlabel(\"$\\\\Delta$mag\")\n",
    "plt.ylabel(f\"Integration Time {intTimes1.unit}\");"
   ]
  },
  {
   "cell_type": "markdown",
   "id": "b636560b-640f-46b5-bf37-01bc0df73c0d",
   "metadata": {},
   "source": [
    "Note that all integration time values above the saturation $\\Delta$mag are NaN (infeasible):"
   ]
  },
  {
   "cell_type": "code",
   "execution_count": null,
   "id": "da857596-2c24-433d-8dc5-2e47ec384a78",
   "metadata": {},
   "outputs": [],
   "source": [
    "print(intTimes1[dMags1 > TL.saturation_dMag[sInd]])"
   ]
  },
  {
   "cell_type": "markdown",
   "id": "598115b3-ed82-4fee-bb2b-64191f22038d",
   "metadata": {},
   "source": [
    "We can now compute completeness as a function of integration time:"
   ]
  },
  {
   "cell_type": "code",
   "execution_count": null,
   "id": "ceba1137-d61d-4658-89dc-21704a7cf032",
   "metadata": {},
   "outputs": [],
   "source": [
    "intTimes1 = intTimes1[dMags1 < TL.saturation_dMag[sInd]]\n",
    "dMags1 = dMags1[dMags1 < TL.saturation_dMag[sInd]]\n",
    "projIWA = np.tan(mode[\"IWA\"]) * TL.dist[sInd] # projected IWA\n",
    "projOWA = np.tan(mode[\"OWA\"]) * TL.dist[sInd] # projected OWA\n",
    "comp1 = TL.Completeness.comp_calc(projIWA.to(u.AU).value, projOWA.to(u.AU).value, dMags1)\n",
    "\n",
    "plt.figure()\n",
    "plt.semilogx(intTimes1, comp1)\n",
    "plt.xlabel(f\"Integration Time [{intTimes1.unit}]\");\n",
    "plt.ylabel(\"Completeness\");"
   ]
  },
  {
   "cell_type": "markdown",
   "id": "1769e89e-0c2d-42c6-8019-ca74df1607a5",
   "metadata": {},
   "source": [
    "Note that the first few completeness values are exactly zero.  These correspond to points where the limiting $\\Delta$mag line lies entirely below the planet population heat map.\n",
    "\n",
    "We can also invert the integration time calculation to compute the achievable $\\Delta$mag as a function of integration time:"
   ]
  },
  {
   "cell_type": "code",
   "execution_count": null,
   "id": "805cee22-85f5-4014-a0b6-09bf3fa633b2",
   "metadata": {},
   "outputs": [],
   "source": [
    "sInds = np.array([sInd] * len(dMags1))\n",
    "fZ = [TL.ZodiacalLight.fZ0.value] * len(dMags1) * TL.ZodiacalLight.fZ0.unit # local zodiacal light\n",
    "fEZ = [TL.ZodiacalLight.fEZ0.value] * len(dMags1) * TL.ZodiacalLight.fEZ0.unit # exo-zodiacal light\n",
    "WAs = [TL.int_WA[sInd].value] * len(sInds) * TL.int_WA.unit # use coronagraph parameters at this nominal separation\n",
    "dMags2 = TL.OpticalSystem.calc_dMag_per_intTime(intTimes1, TL, sInds, fZ, fEZ, WAs, mode)\n",
    "print(f\"Maximum difference: {np.max(np.abs(dMags1 - dMags2))}\")"
   ]
  },
  {
   "cell_type": "markdown",
   "id": "0fc18294-f355-47cd-bcaa-62e49f5a940d",
   "metadata": {},
   "source": [
    "Finally, we have the ability to evaluate the rate of change of completeness as a function of integration time (formally, the derivative $\\frac{\\mathrm{d}c}{\\mathrm{d}t}$):"
   ]
  },
  {
   "cell_type": "code",
   "execution_count": null,
   "id": "fe4d3cc8-5e52-487d-a649-9682882aaca6",
   "metadata": {},
   "outputs": [],
   "source": [
    "dcdt1 = TL.Completeness.dcomp_dt(\n",
    "            intTimes1,\n",
    "            TL,\n",
    "            sInds,\n",
    "            TL.ZodiacalLight.fZ0,\n",
    "            TL.ZodiacalLight.fEZ0,\n",
    "            TL.int_WA[sInd],\n",
    "            mode,\n",
    "        ).to(\"1/d\")\n",
    "\n",
    "plt.figure()\n",
    "plt.semilogx(intTimes1, dcdt1)\n",
    "plt.xlabel(f\"Integration Time [{intTimes1.unit}]\");\n",
    "plt.ylabel(\"$\\\\frac{\\\\mathrm{d}c}{\\\\mathrm{d}t}$\");"
   ]
  },
  {
   "cell_type": "markdown",
   "id": "6ebbc72a-2190-41e9-95aa-a17b381dcb20",
   "metadata": {},
   "source": [
    "Let's take a look at how much we've added to our input specification:"
   ]
  },
  {
   "cell_type": "code",
   "execution_count": null,
   "id": "b1c8d228-317e-4bcf-9ce3-969915a45501",
   "metadata": {},
   "outputs": [],
   "source": [
    "specs"
   ]
  },
  {
   "cell_type": "markdown",
   "id": "8dfb4f06-b6d5-47d3-8f57-d4513a22d8f7",
   "metadata": {
    "tags": []
   },
   "source": [
    "# 5.  Exercise: Choose another star and re-create some or all of these calculations\n",
    "\n",
    "Have fun!"
   ]
  },
  {
   "cell_type": "code",
   "execution_count": null,
   "id": "895dcb94-62a8-44fb-8702-383d3b27f413",
   "metadata": {},
   "outputs": [],
   "source": []
  }
 ],
 "metadata": {
  "kernelspec": {
   "display_name": "Python 3 (ipykernel)",
   "language": "python",
   "name": "python3"
  },
  "language_info": {
   "codemirror_mode": {
    "name": "ipython",
    "version": 3
   },
   "file_extension": ".py",
   "mimetype": "text/x-python",
   "name": "python",
   "nbconvert_exporter": "python",
   "pygments_lexer": "ipython3",
   "version": "3.10.9"
  }
 },
 "nbformat": 4,
 "nbformat_minor": 5
}
