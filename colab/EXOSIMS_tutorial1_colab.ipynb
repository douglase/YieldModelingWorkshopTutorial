{
 "cells": [
  {
   "cell_type": "markdown",
   "id": "51cfdf9b-5ea4-4945-bdef-3b7f5157ed92",
   "metadata": {
    "id": "51cfdf9b-5ea4-4945-bdef-3b7f5157ed92"
   },
   "source": [
    "This notebook includes markdown cells (such as this one), which provide useful information and narration of what is happening, and code cells (such as the next one), which actually do things.  To execute a code cells, click in the cell and then hit Shift+Enter.  Alternatively, click within a cell and hit the Run button (play symbol).  When a cell completes executing, a number will appear (or update) on the left-hand side of the cell. You can also execute some or all of the cells via options in the 'Runtime' menu, above. \n",
    "\n",
    "Before we do anything else, we need to install some required pacakges, download some data, and set up our Python environment:"
   ]
  },
  {
   "cell_type": "code",
   "execution_count": null,
   "id": "AzZ3P1XvVAOz",
   "metadata": {
    "colab": {
     "base_uri": "https://localhost:8080/"
    },
    "id": "AzZ3P1XvVAOz",
    "outputId": "20a0fdf4-ae2a-44b6-f165-ea22bfadb2fd"
   },
   "outputs": [],
   "source": [
    "# this can take up to a minute or longer\n",
    "!git clone --depth 1 https://github.com/dsavransky/YieldModelingWorkshopTutorial"
   ]
  },
  {
   "cell_type": "code",
   "execution_count": null,
   "id": "G8cySJGRMvMz",
   "metadata": {
    "colab": {
     "base_uri": "https://localhost:8080/"
    },
    "id": "G8cySJGRMvMz",
    "outputId": "eb35fde8-ecf7-45e7-d524-2fdfb02ce81b"
   },
   "outputs": [],
   "source": [
    "!pip install EXOSIMS ipympl"
   ]
  },
  {
   "cell_type": "code",
   "execution_count": null,
   "id": "OcL_lxHkU-wl",
   "metadata": {
    "colab": {
     "base_uri": "https://localhost:8080/",
     "height": 35
    },
    "id": "OcL_lxHkU-wl",
    "outputId": "07f984d5-2ca5-41d6-adcd-3db1cacf1fdc"
   },
   "outputs": [],
   "source": [
    "import os\n",
    "import shutil\n",
    "edir = os.path.join(os.environ['HOME'],'.EXOSIMS')\n",
    "os.makedirs(edir, exist_ok=True)\n",
    "shutil.copytree(\"YieldModelingWorkshopTutorial/cache\", os.path.join(edir, \"cache\"),dirs_exist_ok=True)\n",
    "shutil.copytree(\"YieldModelingWorkshopTutorial/downloads\",os.path.join(edir, \"downloads\"),dirs_exist_ok=True)"
   ]
  },
  {
   "cell_type": "code",
   "execution_count": null,
   "id": "c186fa15-d9b5-4861-87ce-077daf492609",
   "metadata": {},
   "outputs": [],
   "source": [
    "# import all of the packages we're going to use\n",
    "import matplotlib.pyplot as plt\n",
    "import numpy as np\n",
    "import copy\n",
    "import EXOSIMS.MissionSim\n",
    "import astropy.units as u\n",
    "import scipy\n",
    "from matplotlib import ticker\n",
    "import matplotlib.colors\n",
    "import warnings"
   ]
  },
  {
   "cell_type": "code",
   "execution_count": null,
   "id": "eb9617b7-e00a-4b77-a5cc-1c79ba34bc04",
   "metadata": {},
   "outputs": [],
   "source": [
    "# set up plotting\n",
    "from google.colab import output\n",
    "output.enable_custom_widget_manager()\n",
    "\n",
    "%matplotlib widget\n",
    "plt.rcParams.update({\"figure.max_open_warning\": 0})"
   ]
  },
  {
   "cell_type": "markdown",
   "id": "fdaf5b6c-e5f9-4b1f-b942-716a02e2688a",
   "metadata": {},
   "source": [
    "We recommend executing the code cells below one by one and interacting with the outputs to get the most out of this tutorial. You can also skip to the start of any numbered section and start execution from there, but all cells within a section are intended to be executed in order."
   ]
  },
  {
   "cell_type": "markdown",
   "id": "b74266c0-c689-4c20-b40c-1414edbb07a2",
   "metadata": {},
   "source": [
    "# 1. Building and Interacting with Simulation Objects\n",
    "\n",
    "In order to create a mission simulation, we need an input specification.  Let's define one with all default values, except for a real input star catalog:"
   ]
  },
  {
   "cell_type": "code",
   "execution_count": null,
   "id": "95159945-420b-48e8-937c-7b794e1ca4f0",
   "metadata": {},
   "outputs": [],
   "source": [
    "specs0 = {\n",
    "    \"modules\": {\n",
    "        \"PlanetPopulation\": \" \",\n",
    "        \"StarCatalog\": \"HWOMissionStars\",\n",
    "        \"OpticalSystem\": \" \",\n",
    "        \"ZodiacalLight\": \" \",\n",
    "        \"BackgroundSources\": \" \",\n",
    "        \"PlanetPhysicalModel\": \" \",\n",
    "        \"Observatory\": \" \",\n",
    "        \"TimeKeeping\": \" \",\n",
    "        \"PostProcessing\": \" \",\n",
    "        \"Completeness\": \" \",\n",
    "        \"TargetList\": \" \",\n",
    "        \"SimulatedUniverse\": \" \",\n",
    "        \"SurveySimulation\": \" \",\n",
    "        \"SurveyEnsemble\": \" \",\n",
    "    }\n",
    "}"
   ]
  },
  {
   "cell_type": "markdown",
   "id": "ac0ef6a1-09d2-4729-a892-cea1f2ca18f6",
   "metadata": {},
   "source": [
    "We now create a `MissionSim` object, which will automatically build and pre-compute all the quantities we need to simulate a mission. Note that for this tutorial, pre-computed values have been automatically loaded to speed up execution time.  Running the same commands with different inputs can result in *much* longer execution times."
   ]
  },
  {
   "cell_type": "code",
   "execution_count": null,
   "id": "4d8f9e08-03f4-4b99-994d-b5f19f17ca05",
   "metadata": {},
   "outputs": [],
   "source": [
    "sim0 = EXOSIMS.MissionSim.MissionSim(**copy.deepcopy(specs0))"
   ]
  },
  {
   "cell_type": "markdown",
   "id": "8d262218-ec50-4f52-9a78-6d2214bbfe21",
   "metadata": {},
   "source": [
    "Note that a *lot* of defaults have been set. Let's take a look at some of the default values being used, starting with which modules were loaded:"
   ]
  },
  {
   "cell_type": "code",
   "execution_count": null,
   "id": "bee073b5-6cf4-4855-af2a-b66143c244f5",
   "metadata": {},
   "outputs": [],
   "source": [
    "sim0.modules"
   ]
  },
  {
   "cell_type": "markdown",
   "id": "c5c54906-33ec-47b9-b04c-b50193c07ead",
   "metadata": {},
   "source": [
    "These modules make up the `EXOSIMS` framework and are all available as attributes of the top-level `MissionSim` object (the one we just created as `sim`).  Regardless of which specific implementations get loaded, the attribute names referring to them are always the same. Certain modules are also available as attributes of others, based on `EXOSIMS` instantiation tree (see here for details: https://exosims.readthedocs.io/en/latest/intro.html#framework). As an example, we can show that the `PlanetPopulation` attribute of `MissionSim` is the same as the `PlanetPopulation` attribute of the `TargetList`. "
   ]
  },
  {
   "cell_type": "code",
   "execution_count": null,
   "id": "09ed463a-1969-403f-a74e-033073dc8695",
   "metadata": {},
   "outputs": [],
   "source": [
    "sim0.PlanetPopulation is sim0.TargetList.PlanetPopulation"
   ]
  },
  {
   "cell_type": "markdown",
   "id": "452c3c0b-df02-4915-841d-019ce3a70b97",
   "metadata": {},
   "source": [
    "Next, we can explore specific parameters that are user-settable (but in this case got set to default values). We start with the `OpticalSystem` (https://exosims.readthedocs.io/en/latest/opticalsystem.html):"
   ]
  },
  {
   "cell_type": "code",
   "execution_count": null,
   "id": "68e2fd9b-0b81-4a03-8ccb-c664d61fbb5a",
   "metadata": {},
   "outputs": [],
   "source": [
    "print(f\"Pupil Diameter: {sim0.OpticalSystem.pupilDiam}\")\n",
    "print(f\"Single-observation integration time limit: {sim0.OpticalSystem.intCutoff}\")\n",
    "print(\n",
    "    f\"Observing mode central wavelength: {sim0.OpticalSystem.observingModes[0]['lam']}\"\n",
    ")\n",
    "print(\n",
    "    f\"Observing mode IWA/OWA: {sim0.OpticalSystem.observingModes[0]['IWA']}/ \"\n",
    "    f\"{sim0.OpticalSystem.observingModes[0]['OWA']}\"\n",
    ")"
   ]
  },
  {
   "cell_type": "markdown",
   "id": "1d700518-9b72-4969-82c8-5bc93ff0b5a2",
   "metadata": {},
   "source": [
    "We can also see what kind of contrast and throughput we're expecting.  These are both functions of wavelength and angular separation (see https://exosims.readthedocs.io/en/latest/opticalsystem.html#required-prototype-starlight-suppression-system-parameters for details). We'll check at the central wavelength and inner working angle:"
   ]
  },
  {
   "cell_type": "code",
   "execution_count": null,
   "id": "5ac68fc7-6c9b-4825-8370-ccc8217cab7f",
   "metadata": {},
   "outputs": [],
   "source": [
    "print(\n",
    "    \"Starlight Suppression system contrast @0.1 arcsec: \"\n",
    "    f\"{sim0.OpticalSystem.starlightSuppressionSystems[0]['core_contrast'](500*u.nm, 0.1*u.arcsec)[0] :.2e}\"\n",
    ")\n",
    "print(\n",
    "    \"Starlight Suppression system core throughput @0.1 arcsec: \"\n",
    "    f\"{sim0.OpticalSystem.starlightSuppressionSystems[0]['core_thruput'](500*u.nm, 0.1*u.arcsec)[0]}\"\n",
    ")"
   ]
  },
  {
   "cell_type": "markdown",
   "id": "b6b534bd-f4b2-4d4f-beb5-fac9bc263a3a",
   "metadata": {},
   "source": [
    "We can also get some information about our science instrument (https://exosims.readthedocs.io/en/latest/opticalsystem.html#science-instruments):"
   ]
  },
  {
   "cell_type": "code",
   "execution_count": null,
   "id": "9694e659-8f16-43aa-bd4f-9e5f4930252f",
   "metadata": {},
   "outputs": [],
   "source": [
    "print(\n",
    "    \"Science Instrument QE @500 nm: \"\n",
    "    f\"{sim0.OpticalSystem.scienceInstruments[0]['QE'](500*u.nm)[0]}\"\n",
    ")\n",
    "print(\n",
    "    f\"Science Instrument pixel scale: {sim0.OpticalSystem.scienceInstruments[0]['pixelScale']}\"\n",
    ")\n",
    "print(\n",
    "    f\"Science Instrument dark current: {sim0.OpticalSystem.scienceInstruments[0]['idark']}\"\n",
    ")\n",
    "print(\n",
    "    f\"Science Instrument read noise (e): {sim0.OpticalSystem.scienceInstruments[0]['sread']}\"\n",
    ")"
   ]
  },
  {
   "cell_type": "markdown",
   "id": "de3d0d0f-2a35-4dc8-86ba-44d8db785337",
   "metadata": {},
   "source": [
    "Let's also take a look at our target list (https://exosims.readthedocs.io/en/latest/targetlist.html):"
   ]
  },
  {
   "cell_type": "code",
   "execution_count": null,
   "id": "8ec326a7-e928-4342-944e-2ef4e2dc4e55",
   "metadata": {},
   "outputs": [],
   "source": [
    "print(f\"Number of targets: {sim0.TargetList.nStars}\")\n",
    "print(f\"Min/Max Target V mag: {sim0.TargetList.Vmag.min()}/{sim0.TargetList.Vmag.max()}\")\n",
    "print(\n",
    "    f\"Min/Max Target distance: {sim0.TargetList.dist.min()}/{sim0.TargetList.dist.max()}\"\n",
    ")"
   ]
  },
  {
   "cell_type": "markdown",
   "id": "7e3196f3-08ee-4f36-8ec0-9519632e29cc",
   "metadata": {},
   "source": [
    "If you read the HWO Mission star list documentation (https://exoplanetarchive.ipac.caltech.edu/docs/2645_NASA_ExEP_Target_List_HWO_Documentation_2023.pdf), you'll notice that it includes 164 targets.  Why are only 134 included here?  Let's ask the code to explain:"
   ]
  },
  {
   "cell_type": "code",
   "execution_count": null,
   "id": "b0a676cd-faaf-4d64-bc67-cfc43e0b8aba",
   "metadata": {},
   "outputs": [],
   "source": [
    "# we'll create a new input specification and object so we can\n",
    "# revisit the original one later, if desired.\n",
    "specs1 = copy.deepcopy(specs0)\n",
    "specs1[\"explainFiltering\"] = True\n",
    "sim1 = EXOSIMS.MissionSim.MissionSim(**copy.deepcopy(specs1))"
   ]
  },
  {
   "cell_type": "markdown",
   "id": "2a544309-08ee-4c3b-8840-8c18b25aedc9",
   "metadata": {},
   "source": [
    "30 of the targets have bright companions within 10 arcsec, and are removed by default.  We can prevent this, if desired:"
   ]
  },
  {
   "cell_type": "code",
   "execution_count": null,
   "id": "1bcae34f-2a7c-4ee8-ba7f-64e55846cbc1",
   "metadata": {},
   "outputs": [],
   "source": [
    "specs1[\"filterBinaries\"] = False\n",
    "sim1 = EXOSIMS.MissionSim.MissionSim(**copy.deepcopy(specs1))"
   ]
  },
  {
   "cell_type": "code",
   "execution_count": null,
   "id": "772a4bef-db6a-4514-ac77-21e9a226bce4",
   "metadata": {},
   "outputs": [],
   "source": [
    "print(f\"Number of targets: {sim1.TargetList.nStars}\")\n",
    "print(\n",
    "    f\"Min/Max Target V mag: {sim1.TargetList.Vmag.min()}/{sim1.TargetList.Vmag.max()}\"\n",
    ")\n",
    "print(\n",
    "    f\"Min/Max Target distance: {sim1.TargetList.dist.min()}/{sim1.TargetList.dist.max()}\"\n",
    ")"
   ]
  },
  {
   "cell_type": "markdown",
   "id": "972164ce-8c5d-4f41-8a1e-9009f8180dcf",
   "metadata": {},
   "source": [
    "As we now have two different `MissionSim` objects (and two sets of underlying module objects) we can compare them.  Let's see the exact set of stars that were initially filtered out:"
   ]
  },
  {
   "cell_type": "code",
   "execution_count": null,
   "id": "a8f5404f-dd54-413b-837f-8a7597050c6e",
   "metadata": {},
   "outputs": [],
   "source": [
    "print(set(sim1.TargetList.Name) - set(sim0.TargetList.Name))"
   ]
  },
  {
   "cell_type": "markdown",
   "id": "b9368017-6854-4e71-9b54-96978f429eaa",
   "metadata": {},
   "source": [
    "# 2. Target Achievable $\\Delta$mag Values\n",
    "\n",
    "Let's create a new `MissionSim` object with one minor modification: by default, EXOSIMS will not compute the saturation completeness or associated $\\Delta\\textrm{mag}$ values (effectively infinite integration time - for more details see: https://exosims.readthedocs.io/en/latest/concepts.html#completeness-integration-time-and-delta-textrm-mag).  However, we can toggle this on by adding a single boolean to our input specification:"
   ]
  },
  {
   "cell_type": "code",
   "execution_count": null,
   "id": "cd296ae6-3306-4442-93ff-a7a3ee1e96b0",
   "metadata": {},
   "outputs": [],
   "source": [
    "specs1 = {\n",
    "    \"skipSaturationCalcs\": False,\n",
    "    \"filterBinaries\": False,\n",
    "    \"modules\": {\n",
    "        \"PlanetPopulation\": \" \",\n",
    "        \"StarCatalog\": \"HWOMissionStars\",\n",
    "        \"OpticalSystem\": \" \",\n",
    "        \"ZodiacalLight\": \" \",\n",
    "        \"BackgroundSources\": \" \",\n",
    "        \"PlanetPhysicalModel\": \" \",\n",
    "        \"Observatory\": \" \",\n",
    "        \"TimeKeeping\": \" \",\n",
    "        \"PostProcessing\": \" \",\n",
    "        \"Completeness\": \" \",\n",
    "        \"TargetList\": \" \",\n",
    "        \"SimulatedUniverse\": \" \",\n",
    "        \"SurveySimulation\": \" \",\n",
    "        \"SurveyEnsemble\": \" \",\n",
    "    }\n",
    "}\n",
    "sim1 = EXOSIMS.MissionSim.MissionSim(**copy.deepcopy(specs1))"
   ]
  },
  {
   "cell_type": "markdown",
   "id": "54e9b579-b1f2-463f-be5c-9cfaeaf846c2",
   "metadata": {},
   "source": [
    "We can now see how all of these translate to achievable $\\Delta\\textrm{mag}$ values for our target list.  We'll look at the maximum integration time value and the saturation value:"
   ]
  },
  {
   "cell_type": "code",
   "execution_count": null,
   "id": "1507c48d-5279-44fc-87c4-2e4d9e5c7580",
   "metadata": {},
   "outputs": [],
   "source": [
    "TL1 = sim1.TargetList  # assign TargetList object for easier access\n",
    "plt.figure()\n",
    "plt.scatter(TL1.Vmag, TL1.intCutoff_dMag, label=\"Max. Int Time $\\\\Delta$mag\")\n",
    "plt.scatter(TL1.Vmag, TL1.saturation_dMag, label=\"Saturation $\\\\Delta$mag\")\n",
    "plt.legend()\n",
    "plt.xlabel(\"V magnitude\")\n",
    "plt.ylabel(\"$\\\\Delta$mag\");"
   ]
  },
  {
   "cell_type": "markdown",
   "id": "b96f0c06-df0a-46a5-90b4-63c9c4cefc6e",
   "metadata": {},
   "source": [
    "That's odd.  I thought we had $10^{-10}$ contrast. Why are we saturating at only a bit above 23 and not closer to 25 $\\Delta\\textrm{mag}$ (which is $10^{-10}$ on the magnitude scale)? \n",
    "\n",
    "The reason is that our integration time model assumes a noise floor set by the residual starlight leaking through the coronagraph. This is attenuated by an assumed post-processing gain. There is also a stability factor that models overall PSF stability. Let's see what that these values default to:"
   ]
  },
  {
   "cell_type": "code",
   "execution_count": null,
   "id": "15bea1a2-bd2e-41ea-a237-1d0aee25b484",
   "metadata": {},
   "outputs": [],
   "source": [
    "print(f\"Post-Processing gain: {TL1.PostProcessing._outspec['ppFact']}\")\n",
    "print(f\"Stability Factor: {TL1.OpticalSystem.stabilityFact}\")"
   ]
  },
  {
   "cell_type": "markdown",
   "id": "a03bc4a8-a0c5-4de0-96ce-4166bfa34163",
   "metadata": {},
   "source": [
    "Well, that's the problem right there.  We're not attenuating the residual speckle at all.  Let's fix that and see how it changes things.  We'll assume that we can beat down the speckle residual (via some form of post-processing) by a factor of 10 and re-create the same plot:"
   ]
  },
  {
   "cell_type": "code",
   "execution_count": null,
   "id": "c73a1e6e-3db6-43d0-aa9f-ffefac35ffde",
   "metadata": {},
   "outputs": [],
   "source": [
    "specs2 = copy.deepcopy(specs1)\n",
    "specs2[\"ppFact\"] = 0.1\n",
    "sim2 = EXOSIMS.MissionSim.MissionSim(**copy.deepcopy(specs2))\n",
    "TL2 = sim2.TargetList\n",
    "plt.figure()\n",
    "plt.scatter(TL2.Vmag, TL2.intCutoff_dMag, label=\"Max. Int Time $\\\\Delta$mag\")\n",
    "plt.scatter(TL2.Vmag, TL2.saturation_dMag, label=\"Saturation $\\\\Delta$mag\")\n",
    "plt.legend()\n",
    "plt.xlabel(\"V magnitude\")\n",
    "plt.ylabel(\"$\\\\Delta$mag\");"
   ]
  },
  {
   "cell_type": "markdown",
   "id": "8c99e568-33f7-4afd-9c64-042878b0f5c7",
   "metadata": {},
   "source": [
    "Much better! We are now modeling an optical system that has a reasonable chance of being able to detect Earth-like planets."
   ]
  },
  {
   "cell_type": "markdown",
   "id": "8e2718b1-1871-4d2e-9cb4-f8a144d6caa2",
   "metadata": {},
   "source": [
    "# 3. Planet Populations\n",
    "\n",
    "Now let's take a look at what kind of synthetic planets we're creating.  First we make a new `MissionSim` object with all of the settings we've accumulated so far:"
   ]
  },
  {
   "cell_type": "code",
   "execution_count": null,
   "id": "53b8665a-34b7-47a3-95f4-ef35f499527b",
   "metadata": {},
   "outputs": [],
   "source": [
    "specs2 = {\n",
    "    \"skipSaturationCalcs\": False,\n",
    "    \"filterBinaries\": False,\n",
    "    \"ppFact\": 0.1,\n",
    "    \"modules\": {\n",
    "        \"PlanetPopulation\": \" \",\n",
    "        \"StarCatalog\": \"HWOMissionStars\",\n",
    "        \"OpticalSystem\": \" \",\n",
    "        \"ZodiacalLight\": \" \",\n",
    "        \"BackgroundSources\": \" \",\n",
    "        \"PlanetPhysicalModel\": \" \",\n",
    "        \"Observatory\": \" \",\n",
    "        \"TimeKeeping\": \" \",\n",
    "        \"PostProcessing\": \" \",\n",
    "        \"Completeness\": \" \",\n",
    "        \"TargetList\": \" \",\n",
    "        \"SimulatedUniverse\": \" \",\n",
    "        \"SurveySimulation\": \" \",\n",
    "        \"SurveyEnsemble\": \" \",\n",
    "    }\n",
    "}\n",
    "sim2 = EXOSIMS.MissionSim.MissionSim(**copy.deepcopy(specs2))"
   ]
  },
  {
   "cell_type": "markdown",
   "id": "030dffbc-2b1f-49a5-9c21-9bb3ced4bbda",
   "metadata": {},
   "source": [
    "Now we can look at multiple attributes to get a sense of the planet sample we're generating:"
   ]
  },
  {
   "cell_type": "code",
   "execution_count": null,
   "id": "f95ec9e3-b6af-48bd-8806-c1dd61cdd882",
   "metadata": {},
   "outputs": [],
   "source": [
    "print(f\"Assumed occurrence rate: {sim2.PlanetPopulation.eta}\")\n",
    "print(f\"Number of stars in target list: {sim2.TargetList.nStars}\")\n",
    "print(f\"Number of planets in synthetic universe: {sim2.SimulatedUniverse.nPlans}\")"
   ]
  },
  {
   "cell_type": "markdown",
   "id": "b66f4561-8d0b-4626-a415-87b6f12a80d8",
   "metadata": {},
   "source": [
    "You might notice that the number of planets not exactly equal to $\\eta N_\\textrm{stars}$ (we can't say for sure, because a different random draw occurs for every user of this sheet, every time it is run, so the number of planets you see in the previous output will be different each time). \n",
    "\n",
    "The reason why you won't always get exactly $\\eta N_\\textrm{stars}$ planets is because we treat $\\eta$ as the rate parameter of a Poisson random variable.  \n",
    "\n",
    "We're also not producing a lot of planets, so for visualization purposes, let's increase the occurrence rate:"
   ]
  },
  {
   "cell_type": "code",
   "execution_count": null,
   "id": "c4c74311-0a3d-4a20-a890-dab37e3b33a9",
   "metadata": {},
   "outputs": [],
   "source": [
    "specs3 = copy.deepcopy(specs2)\n",
    "specs3[\"eta\"] = 3\n",
    "sim3 = EXOSIMS.MissionSim.MissionSim(**copy.deepcopy(specs3))\n",
    "print(f\"Assumed occurrence rate: {sim3.PlanetPopulation.eta}\")\n",
    "print(f\"Number of stars in target list: {sim3.TargetList.nStars}\")\n",
    "print(f\"Number of planets in synthetic universe: {sim3.SimulatedUniverse.nPlans}\")"
   ]
  },
  {
   "cell_type": "markdown",
   "id": "9840042e-a818-43df-9068-1abbdd3f149a",
   "metadata": {},
   "source": [
    "Let's take a look at some of the planets' physical and orbital attributes:"
   ]
  },
  {
   "cell_type": "code",
   "execution_count": null,
   "id": "1561e1b6-6dc6-41aa-a015-9a3d004f674e",
   "metadata": {},
   "outputs": [],
   "source": [
    "fig, ax = plt.subplots()\n",
    "pts = ax.scatter(\n",
    "    sim3.SimulatedUniverse.a,\n",
    "    sim3.SimulatedUniverse.Mp,\n",
    "    s=sim3.SimulatedUniverse.Rp,\n",
    "    c=sim3.SimulatedUniverse.Rp,\n",
    ")\n",
    "ax.set_xscale(\"log\")\n",
    "ax.set_yscale(\"log\")\n",
    "ax.set_ylabel(f\"Planet Mass [{sim3.SimulatedUniverse.Mp.unit}]\")\n",
    "ax.set_xlabel(f\"Semi-Major Axis [{sim3.SimulatedUniverse.a.unit}]\")\n",
    "plt.colorbar(pts, label=f\"Planet Radius [{sim3.SimulatedUniverse.Rp.unit}]\");"
   ]
  },
  {
   "cell_type": "markdown",
   "id": "a35aa805-0448-4a10-8b8e-bf47208a6f89",
   "metadata": {},
   "source": [
    "That seems like a really odd-looking planet population.  Because we haven't selected a specific planet population to model, planets were generated using log-normal distributions for mass and semi-major axis, and the planet radius is decoupled from the planet mass.  This is obviously non-physical (although occasionally useful for various testing purposes) - let's dial in a real planet population. We'll use the population defined by the SAG13 final report (https://exoplanets.nasa.gov/system/presentations/files/67_Belikov_SAG13_ExoPAG16_draft_v4.pdf):"
   ]
  },
  {
   "cell_type": "code",
   "execution_count": null,
   "id": "ee65fff3-45bc-41a1-8768-2b774bb55f23",
   "metadata": {},
   "outputs": [],
   "source": [
    "specs4 = copy.deepcopy(specs3)\n",
    "specs4[\"modules\"][\"PlanetPopulation\"] = \"SAG13\"\n",
    "specs4[\"modules\"][\"SimulatedUniverse\"] = \"SAG13Universe\"\n",
    "sim4 = EXOSIMS.MissionSim.MissionSim(**copy.deepcopy(specs4))\n",
    "print(f\"Assumed occurrence rate: {sim4.PlanetPopulation.eta}\")\n",
    "print(f\"Number of stars in target list: {sim4.TargetList.nStars}\")\n",
    "print(f\"Number of planets in synthetic universe: {sim4.SimulatedUniverse.nPlans}\")"
   ]
  },
  {
   "cell_type": "markdown",
   "id": "82637b52-426f-453d-94a5-66e8ab9f2439",
   "metadata": {},
   "source": [
    "Note that our previously set $\\eta$ input was ignored and overwritten by this particular family of modules. "
   ]
  },
  {
   "cell_type": "code",
   "execution_count": null,
   "id": "56b9ed6a-9d3b-4df1-9cdd-22f43a2dbe4f",
   "metadata": {},
   "outputs": [],
   "source": [
    "fig, ax = plt.subplots()\n",
    "pts = ax.scatter(\n",
    "    sim4.SimulatedUniverse.a,\n",
    "    sim4.SimulatedUniverse.Mp,\n",
    "    s=sim4.SimulatedUniverse.Rp,\n",
    "    c=sim4.SimulatedUniverse.Rp,\n",
    ")\n",
    "ax.set_xscale(\"log\")\n",
    "ax.set_yscale(\"log\")\n",
    "ax.set_ylabel(f\"Planet Mass [{sim4.SimulatedUniverse.Mp.unit}]\")\n",
    "ax.set_xlabel(f\"Semi-Major Axis [{sim4.SimulatedUniverse.a.unit}]\")\n",
    "plt.colorbar(pts, label=f\"Planet Radius [{sim4.SimulatedUniverse.Rp.unit}]\");"
   ]
  },
  {
   "cell_type": "markdown",
   "id": "c3da47b7-66f8-49c9-9489-acc539e5b2fb",
   "metadata": {},
   "source": [
    "We are now generating planets with self-consistent masses and radii, and generating significantly more Earth-mass objects than Jovian-mass objects. However, the original SAG13 population is only defined for relatively short-period planets.  We can see the exact range of semi-major axes we're generating:"
   ]
  },
  {
   "cell_type": "code",
   "execution_count": null,
   "id": "3aa58ea0-0a07-45a8-a425-b176edee192e",
   "metadata": {},
   "outputs": [],
   "source": [
    "print(f\"Semi-major axis range: {sim4.PlanetPopulation.arange}\")"
   ]
  },
  {
   "cell_type": "markdown",
   "id": "1706f464-7d32-4f4c-a975-e19af77a5ab9",
   "metadata": {},
   "source": [
    "Let's extrapolate a bit:"
   ]
  },
  {
   "cell_type": "code",
   "execution_count": null,
   "id": "c43ee653-5240-465e-9001-b3d274a2996c",
   "metadata": {},
   "outputs": [],
   "source": [
    "specs5 = copy.deepcopy(specs4)\n",
    "specs5[\"arange\"] = [0.09084645, 30]\n",
    "specs5[\"smaknee\"] = 10\n",
    "sim5 = EXOSIMS.MissionSim.MissionSim(**copy.deepcopy(specs5))\n",
    "print(f\"Assumed occurrence rate: {sim5.PlanetPopulation.eta}\")\n",
    "print(f\"Number of stars in target list: {sim5.TargetList.nStars}\")\n",
    "print(f\"Number of planets in synthetic universe: {sim5.SimulatedUniverse.nPlans}\")\n",
    "\n",
    "fig, ax = plt.subplots()\n",
    "pts = ax.scatter(\n",
    "    sim5.SimulatedUniverse.a,\n",
    "    sim5.SimulatedUniverse.Mp,\n",
    "    s=sim5.SimulatedUniverse.Rp,\n",
    "    c=sim5.SimulatedUniverse.Rp,\n",
    ")\n",
    "ax.set_xscale(\"log\")\n",
    "ax.set_yscale(\"log\")\n",
    "ax.set_ylabel(f\"Planet Mass [{sim5.SimulatedUniverse.Mp.unit}]\")\n",
    "ax.set_xlabel(f\"Semi-Major Axis [{sim5.SimulatedUniverse.a.unit}]\")\n",
    "plt.colorbar(pts, label=f\"Planet Radius [{sim5.SimulatedUniverse.Rp.unit}]\");"
   ]
  },
  {
   "cell_type": "markdown",
   "id": "10c25fe1-c4ba-4ca0-a25f-2c891dd117aa",
   "metadata": {},
   "source": [
    "Note that even though we permitted the semi-major axis range to go all the way to 30 AU, we're not generating planets out there.  That's because this implementation includes an exponential drop-off past the separation set by the ``smaknee`` parameter, which we set to 10 AU."
   ]
  },
  {
   "cell_type": "markdown",
   "id": "e09dcf57-b680-45c7-a238-d18cde73372f",
   "metadata": {},
   "source": [
    "# 4. Completeness\n",
    "\n",
    "At this point, we have a (somewhat) reasonable-looking set of synthetic planets, a target list, and a workable optical system.  The last element we're missing is the ability compute completeness.  So far, we have been utilizing the prototype completeness modules, which doesn't actually compute real completeness values (in the interest of execution time). Instead, it sets every completeness value for every target to an arbitrary, identical, value:"
   ]
  },
  {
   "cell_type": "code",
   "execution_count": null,
   "id": "d30d540f-1ca6-4c50-b759-a55aa3052f2c",
   "metadata": {},
   "outputs": [],
   "source": [
    "specs5 = {\n",
    "    \"skipSaturationCalcs\": False,\n",
    "    \"filterBinaries\": False,\n",
    "    \"ppFact\": 0.1,\n",
    "    \"eta\": 3,\n",
    "    \"arange\": [0.09084645, 30],\n",
    "    \"smaknee\": 10,\n",
    "    \"modules\": {\n",
    "        \"PlanetPopulation\": \"SAG13\",\n",
    "        \"StarCatalog\": \"HWOMissionStars\",\n",
    "        \"OpticalSystem\": \" \",\n",
    "        \"ZodiacalLight\": \" \",\n",
    "        \"BackgroundSources\": \" \",\n",
    "        \"PlanetPhysicalModel\": \" \",\n",
    "        \"Observatory\": \" \",\n",
    "        \"TimeKeeping\": \" \",\n",
    "        \"PostProcessing\": \" \",\n",
    "        \"Completeness\": \" \",\n",
    "        \"TargetList\": \" \",\n",
    "        \"SimulatedUniverse\": \"SAG13Universe\",\n",
    "        \"SurveySimulation\": \" \",\n",
    "        \"SurveyEnsemble\": \" \",\n",
    "    }\n",
    "}\n",
    "sim5 = EXOSIMS.MissionSim.MissionSim(**copy.deepcopy(specs5))\n",
    "sim5.TargetList.int_comp"
   ]
  },
  {
   "cell_type": "markdown",
   "id": "823a7dad-d2cb-4194-8b1b-4bb93a27b0bd",
   "metadata": {},
   "source": [
    "Let's replace this with a real completeness calculation, and also limit ourselves to a somewhat restricted field of view.  Note that this will execute relatively quickly because we have pre-cached the relevant result for this tutorial.  Changing the planet population will require a re-computation of the joint density function, which can take a while (but then those results will be cached as well). We're going to use a Monte-Carlo based approach to computing Completeness, which is named in honor of Bob Brown, who originally introduced this methodology in his 2005 paper:"
   ]
  },
  {
   "cell_type": "code",
   "execution_count": null,
   "id": "69a18fa7-0a3f-4415-9f3c-2741635e9aa0",
   "metadata": {},
   "outputs": [],
   "source": [
    "specs6 = copy.deepcopy(specs5)\n",
    "specs6[\"modules\"][\"Completeness\"] = \"BrownCompleteness\"\n",
    "specs6[\"FoV\"] = 2.0  # arcseconds\n",
    "sim6 = EXOSIMS.MissionSim.MissionSim(**copy.deepcopy(specs6))"
   ]
  },
  {
   "cell_type": "markdown",
   "id": "5cc9b7c8-46c6-494f-a736-d43d16a7374f",
   "metadata": {},
   "source": [
    "We can now look at what kind of completeness values we can achieve for our target list.  We'll consider the case of integrating to a nominal $\\Delta$mag (defaulting to 25) for each target, and the case of integrating for an effectively infinite amount of time:"
   ]
  },
  {
   "cell_type": "code",
   "execution_count": null,
   "id": "6f9cd185-bc28-4dbf-8d03-2b57353998f2",
   "metadata": {},
   "outputs": [],
   "source": [
    "TL = sim6.TargetList\n",
    "plt.figure()\n",
    "plt.scatter(TL.dist, TL.int_comp, label=\"Nominal integraton time completeness\")\n",
    "plt.scatter(TL.dist, TL.saturation_comp, label=\"Saturation completeness\")\n",
    "plt.legend()\n",
    "plt.xlabel(f\"Distance {TL.dist.unit}\")\n",
    "plt.ylabel(\"Completeness\");"
   ]
  },
  {
   "cell_type": "markdown",
   "id": "2230ef47-ba99-4a5f-a445-556ff70ba167",
   "metadata": {},
   "source": [
    "This gives us a sense of how the completeness behaves as a function of integration time, but only for two data points.  We can also look in more detail for a particular target.  Let's pick a somewhat bright star beyond 5 parsecs:"
   ]
  },
  {
   "cell_type": "code",
   "execution_count": null,
   "id": "5f686581-0a49-4b18-bdc0-7b65ffa3b73d",
   "metadata": {},
   "outputs": [],
   "source": [
    "TL = sim6.TargetList\n",
    "sInd = np.where((TL.Vmag <= 7) & (TL.dist >= 5 * u.pc))[0][0]\n",
    "print(f\"We'll be focusing on {TL.Name[sInd]}.\")\n",
    "print(f\"This target has a V mag of {TL.Vmag[sInd]} and is {TL.dist[sInd]} from Earth.\")\n",
    "print(\n",
    "    f\"This target has a saturation dMag of {TL.saturation_dMag[sInd] :.2f}, \"\n",
    "    f\"and requires {TL.int_tmin[sInd].to(u.h) :.2f} of integration to get to a dMag \"\n",
    "    f\"of {TL.int_dMag[sInd]}\"\n",
    ")"
   ]
  },
  {
   "cell_type": "markdown",
   "id": "8a1f1c3c-9616-4fe1-85dc-55f98e93da1d",
   "metadata": {},
   "source": [
    "Let's take a look at how instrumental constraints interact with the planet population for this target:"
   ]
  },
  {
   "cell_type": "code",
   "execution_count": null,
   "id": "03d0d83a-a007-4f15-af9b-489a69e3d1b7",
   "metadata": {},
   "outputs": [],
   "source": [
    "TL = sim6.TargetList # grab the TargetList\n",
    "# grab the first (and only) observing mode:\n",
    "mode = sim6.OpticalSystem.observingModes[0] \n",
    "fig = plt.figure()\n",
    "ax = fig.add_subplot(111)\n",
    "with warnings.catch_warnings():\n",
    "    warnings.simplefilter(\"ignore\")\n",
    "    cs = ax.contourf(\n",
    "        TL.Completeness.xnew,\n",
    "        TL.Completeness.ynew,\n",
    "        TL.Completeness.Cpdf,\n",
    "        locator=ticker.LogLocator(),\n",
    "    )\n",
    "ax.set_xlabel(\"Separation (AU)\")\n",
    "ax.set_ylabel(\"$\\Delta$mag\")\n",
    "cbar = fig.colorbar(cs)\n",
    "cbar.ax.set_title(\"log$_{10}(f_{\\Delta\\\\mathrm{mag},s})$\")\n",
    "projIWA = np.tan(mode[\"IWA\"]) * TL.dist[sInd]\n",
    "projOWA = np.tan(mode[\"OWA\"]) * TL.dist[sInd]\n",
    "ax.plot([projIWA.to(u.AU).value] * 2, [10, 50], \"--\", label=\"IWA\")\n",
    "ax.plot([projOWA.to(u.AU).value] * 2, [10, 50], \"--\", label=\"OWA\")\n",
    "ax.plot(\n",
    "    [projIWA.to(u.AU).value, projOWA.to(u.AU).value],\n",
    "    [TL.int_dMag[sInd]] * 2,\n",
    "    label=\"Nominal integration dMag\",\n",
    ")\n",
    "ax.plot(\n",
    "    [projIWA.to(u.AU).value, projOWA.to(u.AU).value],\n",
    "    [TL.saturation_dMag[sInd]] * 2,\n",
    "    label=\"Saturation integration dMag\",\n",
    ")\n",
    "plt.legend()\n",
    "ax.set_xlim([0, 30])\n",
    "ax.set_ylim([10, 50]);"
   ]
  },
  {
   "cell_type": "markdown",
   "id": "8c9ed170-7f62-4261-ad15-55278e0cba90",
   "metadata": {},
   "source": [
    "The heat map represents the 2D joint probability density function of this population's projected separation and delta magnitude.  The lines represent instrumental limits. Note that the $\\Delta$mag curves are straight lines because the default starlight-suppression system values use the same contrast and throughput values for all separations between the inner and outer working angles."
   ]
  },
  {
   "cell_type": "markdown",
   "id": "4cf94fd4-9589-45f0-aeb4-e4d2fdfc2dcb",
   "metadata": {},
   "source": [
    "We'll now compute integration times for a range of $\\Delta$mag values and also confirm that the saturation $\\Delta$mag is correct:"
   ]
  },
  {
   "cell_type": "code",
   "execution_count": null,
   "id": "3961427b-c44c-48a2-a18e-bbaeca4838af",
   "metadata": {},
   "outputs": [],
   "source": [
    "TL = sim6.TargetList\n",
    "# define an array of target delta mag values\n",
    "# between just below the PDF at the IWA out to just above the\n",
    "# pre-computed saturation deltaMag\n",
    "dMags1 = np.linspace(17, TL.saturation_dMag[sInd] + 0.1, 100)\n",
    "sInds = np.array([sInd] * len(dMags1))\n",
    "\n",
    "# use the default values of local and exo-zodiacal light:\n",
    "fZ = (\n",
    "    [TL.ZodiacalLight.fZ0.value] * len(dMags1) * TL.ZodiacalLight.fZ0.unit\n",
    ")  # local zodiacal light\n",
    "fEZ = (\n",
    "    [TL.ZodiacalLight.fEZ0.value] * len(dMags1) * TL.ZodiacalLight.fEZ0.unit\n",
    ")  # exo-zodiacal light\n",
    "\n",
    "# Use the first available observing mode\n",
    "mode = TL.OpticalSystem.observingModes[0]\n",
    "\n",
    "# use coronagraph parameters at the nominal angular separation:\n",
    "WAs = [TL.int_WA[sInd].value] * len(sInds) * TL.int_WA.unit\n",
    "\n",
    "# compute integration time\n",
    "intTimes1 = TL.OpticalSystem.calc_intTime(TL, sInds, fZ, fEZ, dMags1, WAs, mode)\n",
    "\n",
    "# plot results\n",
    "plt.figure()\n",
    "plt.semilogy(dMags1, intTimes1)\n",
    "plt.xlabel(\"$\\\\Delta$mag\")\n",
    "plt.ylabel(f\"Integration Time {intTimes1.unit}\")\n",
    "print(\n",
    "    \"Note that all integration time values above the \"\n",
    "    \"saturation dMag are NaN (infeasible): \"\n",
    "    f\"{intTimes1[dMags1 > TL.saturation_dMag[sInd]]}\"\n",
    ")"
   ]
  },
  {
   "cell_type": "markdown",
   "id": "598115b3-ed82-4fee-bb2b-64191f22038d",
   "metadata": {},
   "source": [
    "We can now compute completeness as a function of integration time:"
   ]
  },
  {
   "cell_type": "code",
   "execution_count": null,
   "id": "ceba1137-d61d-4658-89dc-21704a7cf032",
   "metadata": {},
   "outputs": [],
   "source": [
    "# first we'll remove the NaN integration times\n",
    "TL = sim6.TargetList\n",
    "intTimes1 = intTimes1[dMags1 < TL.saturation_dMag[sInd]]\n",
    "dMags1 = dMags1[dMags1 < TL.saturation_dMag[sInd]]\n",
    "\n",
    "# compute the projected inner and outer workign angles:\n",
    "projIWA = np.tan(mode[\"IWA\"]) * TL.dist[sInd]  # projected IWA\n",
    "projOWA = np.tan(mode[\"OWA\"]) * TL.dist[sInd]  # projected OWA\n",
    "\n",
    "# compute completeness\n",
    "comp1 = TL.Completeness.comp_calc(\n",
    "    projIWA.to(u.AU).value, projOWA.to(u.AU).value, dMags1\n",
    ")\n",
    "\n",
    "plt.figure()\n",
    "plt.semilogx(intTimes1, comp1)\n",
    "plt.xlabel(f\"Integration Time [{intTimes1.unit}]\")\n",
    "plt.ylabel(\"Completeness\");"
   ]
  },
  {
   "cell_type": "markdown",
   "id": "3659a89f-7fbc-4245-9520-2366fb2207b5",
   "metadata": {},
   "source": [
    "We can also invert the integration time calculation to compute the achievable $\\Delta$mag as a function of integration time:"
   ]
  },
  {
   "cell_type": "code",
   "execution_count": null,
   "id": "805cee22-85f5-4014-a0b6-09bf3fa633b2",
   "metadata": {},
   "outputs": [],
   "source": [
    "TL = sim6.TargetList\n",
    "sInds = np.array([sInd] * len(dMags1))\n",
    "# local zodiacal light:\n",
    "fZ = [TL.ZodiacalLight.fZ0.value] * len(dMags1) * TL.ZodiacalLight.fZ0.unit\n",
    "# exo-zodiacal light\n",
    "fEZ = [TL.ZodiacalLight.fEZ0.value] * len(dMags1) * TL.ZodiacalLight.fEZ0.unit\n",
    "# use coronagraph parameters at this nominal separation\n",
    "WAs = [TL.int_WA[sInd].value] * len(sInds) * TL.int_WA.unit\n",
    "# compute completeness as function of integration time:\n",
    "dMags2 = TL.OpticalSystem.calc_dMag_per_intTime(\n",
    "    intTimes1, TL, sInds, fZ, fEZ, WAs, mode\n",
    ")\n",
    "print(f\"Maximum difference: {np.max(np.abs(dMags1 - dMags2))}\")"
   ]
  },
  {
   "cell_type": "markdown",
   "id": "0fc18294-f355-47cd-bcaa-62e49f5a940d",
   "metadata": {},
   "source": [
    "Finally, we have the ability to evaluate the rate of change of completeness as a function of integration time (formally, the derivative $\\frac{\\mathrm{d}c}{\\mathrm{d}t}$):"
   ]
  },
  {
   "cell_type": "code",
   "execution_count": null,
   "id": "fe4d3cc8-5e52-487d-a649-9682882aaca6",
   "metadata": {},
   "outputs": [],
   "source": [
    "TL = sim6.TargetList\n",
    "dcdt1 = TL.Completeness.dcomp_dt(\n",
    "    intTimes1,\n",
    "    TL,\n",
    "    sInds,\n",
    "    TL.ZodiacalLight.fZ0,\n",
    "    TL.ZodiacalLight.fEZ0,\n",
    "    TL.int_WA[sInd],\n",
    "    mode,\n",
    ").to(\"1/d\")\n",
    "\n",
    "plt.figure()\n",
    "plt.semilogx(intTimes1, dcdt1)\n",
    "plt.xlabel(f\"Integration Time [{intTimes1.unit}]\")\n",
    "plt.ylabel(\"$\\\\frac{\\\\mathrm{d}c}{\\\\mathrm{d}t}$\");"
   ]
  },
  {
   "cell_type": "markdown",
   "id": "a489ca71-a372-447d-86af-aa451458c95c",
   "metadata": {},
   "source": [
    "# 5. Observatory and Keepout\n",
    "\n",
    "Let's set up an observatory and define our keepout regions.  We'll use a nominal Sun-Earth L$_2$ point halo orbit.  The keepout is defined for each starlight suppression system by a series of keywords defining the minimum and maximum angular separation between the line of sight and the Sun, Earth, Moon, and all other major solar system bodies.  We'll set the solar keepout as outside of 40$^\\circ$ and 90$^\\circ$, and ignore the others.  This is consistent with a well-baffled telescope and either solar panel-induced restrictions (from solar panels mounted orthogonally to the telescope aperture) or the keepout imposed by reflection from a starshade. "
   ]
  },
  {
   "cell_type": "code",
   "execution_count": null,
   "id": "ba545fc7-a209-492d-ab80-056ccf435b8e",
   "metadata": {},
   "outputs": [],
   "source": [
    "specs7 = {\n",
    "    \"skipSaturationCalcs\": False,\n",
    "    \"filterBinaries\": False,\n",
    "    \"ppFact\": 0.1,\n",
    "    \"eta\": 3,\n",
    "    \"arange\": [0.09084645, 30],\n",
    "    \"smaknee\": 10,\n",
    "    \"FoV\": 2.0,\n",
    "    \"koAngles_Sun\": [40, 90], # set solar keepout angles\n",
    "    \"missionLife\": 1,  # set mission duration to 1 year\n",
    "    \"missionPortion\": 1,  # allocate 100% of available time to exoplanet imaging\n",
    "    \"modules\": {\n",
    "        \"PlanetPopulation\": \"SAG13\",\n",
    "        \"StarCatalog\": \"HWOMissionStars\",\n",
    "        \"OpticalSystem\": \" \",\n",
    "        \"ZodiacalLight\": \" \",\n",
    "        \"BackgroundSources\": \" \",\n",
    "        \"PlanetPhysicalModel\": \" \",\n",
    "        \"Observatory\": \"ObservatoryL2Halo\",\n",
    "        \"TimeKeeping\": \" \",\n",
    "        \"PostProcessing\": \" \",\n",
    "        \"Completeness\": \"BrownCompleteness\",\n",
    "        \"TargetList\": \" \",\n",
    "        \"SimulatedUniverse\": \"SAG13Universe\",\n",
    "        \"SurveySimulation\": \" \",\n",
    "        \"SurveyEnsemble\": \" \",\n",
    "    }\n",
    "}\n",
    "\n",
    "sim7 = EXOSIMS.MissionSim.MissionSim(**copy.deepcopy(specs7))"
   ]
  },
  {
   "cell_type": "markdown",
   "id": "fb28d44d-232b-4644-883b-0bca94726bb2",
   "metadata": {},
   "source": [
    "The `SurveySimulation` object automatically constructs keepout maps---boolean arrays of target availability as a function of mission time---for each defined starlight suppression system. Let's take a look at one:"
   ]
  },
  {
   "cell_type": "code",
   "execution_count": null,
   "id": "c74ef353-47a0-4f4e-bcf9-0d040ac16525",
   "metadata": {},
   "outputs": [],
   "source": [
    "coords = (\n",
    "    sim7.TargetList.coords.heliocentrictrueecliptic\n",
    ")  # grab target coordinates in ecliptic coords\n",
    "sInds = np.argsort(coords.lon)\n",
    "cmap = matplotlib.colors.ListedColormap([\"black\", \"green\"])\n",
    "plt.figure()\n",
    "plt.pcolor(\n",
    "    sim7.SurveySimulation.koTimes.value,\n",
    "    np.arange(sim7.TargetList.nStars),\n",
    "    sim7.SurveySimulation.koMaps[\n",
    "        sim7.OpticalSystem.starlightSuppressionSystems[0][\"name\"]\n",
    "    ][sInds],\n",
    "    cmap=cmap,\n",
    ")\n",
    "plt.ylabel(\"Target Number\")\n",
    "plt.xlabel(f\"Time [{sim7.SurveySimulation.koTimes.format}]\")\n",
    "cbar = plt.colorbar(ticks=[0.25, 0.75], drawedges=True)\n",
    "cbar.ax.set_yticklabels([\"Unavailable\", \"Available\"]);"
   ]
  },
  {
   "cell_type": "markdown",
   "id": "c52ea8f6-10a0-4712-bb3e-44ea55bf9cc3",
   "metadata": {},
   "source": [
    "As we sorted the targets by their ecliptic longitudes, there is some structure in the keepout map. The regions of target availability move along with target ecliptic longitude over the course of the year.  Most targets have at least two discrete gaps in availability (corresponding to being below the minimum or above the maximum keepout angle value).  Total availability is inversely proportional to ecliptic latitude (i.e., targets near the poles are available more than targets near the ecliptic).  We can demonstrate this by summing over the rows of our keepout map (which gives us the total number of days available):  "
   ]
  },
  {
   "cell_type": "code",
   "execution_count": null,
   "id": "766cea52-cf27-4028-ad98-7edefbce9bdc",
   "metadata": {},
   "outputs": [],
   "source": [
    "totavail = np.sum(\n",
    "    sim7.SurveySimulation.koMaps[\n",
    "        sim7.OpticalSystem.starlightSuppressionSystems[0][\"name\"]\n",
    "    ],\n",
    "    axis=1,\n",
    ")\n",
    "plt.figure()\n",
    "plt.scatter(coords.lat, totavail)\n",
    "plt.xlabel(\"Ecliptic Latitude [deg]\")\n",
    "plt.ylabel(\"Total Target Availability [days]\");"
   ]
  },
  {
   "cell_type": "markdown",
   "id": "6c56297c-f9c9-4318-9c38-a4a90656c309",
   "metadata": {},
   "source": [
    "While we're here, let's also take a quick look at the orbit our observatory is on:"
   ]
  },
  {
   "cell_type": "code",
   "execution_count": null,
   "id": "5520ddca-139d-4933-a880-30535a30b095",
   "metadata": {},
   "outputs": [],
   "source": [
    "orbit = sim7.Observatory.orbit(sim7.SurveySimulation.koTimes)\n",
    "ax = plt.figure().add_subplot(projection=\"3d\")\n",
    "\n",
    "ax.plot(orbit[:, 0], orbit[:, 1], orbit[:, 2])\n",
    "ax.set_xlabel(\"x (AU)\")\n",
    "ax.set_ylabel(\"y (AU)\")\n",
    "ax.set_zlabel(\"z (AU)\");"
   ]
  },
  {
   "cell_type": "markdown",
   "id": "6cd41eed-df9e-4d30-8207-08fb3c6f3d77",
   "metadata": {},
   "source": [
    "Unsurprisingly, this looks a lot like Earth's orbit (it's actually tracking the orbit of $L_2$, which orbits slightly beyond Earth).  In order to see the periodicity of the halo, we need to plot this in the rotating frame:"
   ]
  },
  {
   "cell_type": "code",
   "execution_count": null,
   "id": "03d1de5f-0e25-4c30-b6a4-f1477ec0e7f9",
   "metadata": {},
   "outputs": [],
   "source": [
    "rotframeorbit = sim7.Observatory.haloPosition(sim7.SurveySimulation.koTimes)\n",
    "ax = plt.figure().add_subplot(projection=\"3d\")\n",
    "\n",
    "ax.plot(rotframeorbit[:, 0], rotframeorbit[:, 1], rotframeorbit[:, 2])\n",
    "ax.set_xlabel(\"x (AU)\")\n",
    "ax.set_ylabel(\"y (AU)\")\n",
    "ax.set_zlabel(\"z (AU)\");"
   ]
  },
  {
   "cell_type": "markdown",
   "id": "7a2d0357-69fc-40b7-abf5-6f7b25f31191",
   "metadata": {},
   "source": [
    "# 6. Running a Simulation\n",
    "\n",
    "Finally, let's create a new instance of our final simulation configuration and actually run the survey:"
   ]
  },
  {
   "cell_type": "code",
   "execution_count": null,
   "id": "89d748cd-c36a-48d2-83a4-a490aa2c4846",
   "metadata": {},
   "outputs": [],
   "source": [
    "specs7 = {\n",
    "    \"skipSaturationCalcs\": False,\n",
    "    \"filterBinaries\": False,\n",
    "    \"ppFact\": 0.1,\n",
    "    \"eta\": 3,\n",
    "    \"arange\": [0.09084645, 30],\n",
    "    \"smaknee\": 10,\n",
    "    \"FoV\": 2.0,\n",
    "    \"koAngles_Sun\": [40, 90], # set solar keepout angles\n",
    "    \"missionLife\": 1,  # set mission duration to 1 year\n",
    "    \"missionPortion\": 1,  # allocate 100% of available time to exoplanet imaging\n",
    "    \"modules\": {\n",
    "        \"PlanetPopulation\": \"SAG13\",\n",
    "        \"StarCatalog\": \"HWOMissionStars\",\n",
    "        \"OpticalSystem\": \" \",\n",
    "        \"ZodiacalLight\": \" \",\n",
    "        \"BackgroundSources\": \" \",\n",
    "        \"PlanetPhysicalModel\": \" \",\n",
    "        \"Observatory\": \"ObservatoryL2Halo\",\n",
    "        \"TimeKeeping\": \" \",\n",
    "        \"PostProcessing\": \" \",\n",
    "        \"Completeness\": \"BrownCompleteness\",\n",
    "        \"TargetList\": \" \",\n",
    "        \"SimulatedUniverse\": \"SAG13Universe\",\n",
    "        \"SurveySimulation\": \" \",\n",
    "        \"SurveyEnsemble\": \" \",\n",
    "    }\n",
    "}\n",
    "sim7 = EXOSIMS.MissionSim.MissionSim(**copy.deepcopy(specs7))\n",
    "\n",
    "sim7.run_sim()"
   ]
  },
  {
   "cell_type": "markdown",
   "id": "8733f4ab-0194-45b2-9227-57372957c602",
   "metadata": {},
   "source": [
    "The simulated set of observations is encoded in a list of dictionaries stored in attribute `sim.SurveySimulation.DRM`. Each dictionary includes information about the observation.  We can look at one of them to see what information is available:"
   ]
  },
  {
   "cell_type": "code",
   "execution_count": null,
   "id": "8c341c88-49f2-4772-867b-5cae1cd6586c",
   "metadata": {},
   "outputs": [],
   "source": [
    "sim7.SurveySimulation.DRM[0]"
   ]
  },
  {
   "cell_type": "markdown",
   "id": "7ff39ba9-cfd7-4cd8-8a15-4f09a07ba006",
   "metadata": {},
   "source": [
    "We can quickly collect information about all observations via python's list comprehensions. For example, we can identify which stars we observed in this simulation:"
   ]
  },
  {
   "cell_type": "code",
   "execution_count": null,
   "id": "41aa4d69-d0b7-44a5-baf3-c225425939ea",
   "metadata": {},
   "outputs": [],
   "source": [
    "sInds = [row[\"star_ind\"] for row in sim7.SurveySimulation.DRM]  # observed stars\n",
    "\n",
    "ra = sim7.TargetList.coords.ra.wrap_at(180 * u.degree).rad  # all stars\n",
    "dec = sim7.TargetList.coords.dec.rad\n",
    "\n",
    "fig = plt.figure(figsize=(8, 6))\n",
    "ax = fig.add_subplot(111, projection=\"mollweide\")\n",
    "p = ax.scatter(ra, dec, c=sim7.TargetList.int_comp)\n",
    "ax.grid(True)\n",
    "plt.colorbar(p, label=\"Completeness\")\n",
    "diffs = np.abs(np.diff(ra[sInds]))\n",
    "for j in range(1, len(sInds)):\n",
    "    if diffs[j - 1] < np.pi:\n",
    "        plt.plot(ra[sInds[j - 1 : j + 1]], dec[sInds[j - 1 : j + 1]], \"k\");"
   ]
  },
  {
   "cell_type": "markdown",
   "id": "aae8b02b-9811-420f-8955-4fe30dafcc9d",
   "metadata": {},
   "source": [
    "Because this simulation did not include a starshade, there is little penalty for transitioning between targets that are further apart from one another, and so we see the scheduler prioritizing higher-completeness targets whenever they are available.\n",
    "\n",
    "Let's see what happens if we try to run the simulation again:"
   ]
  },
  {
   "cell_type": "code",
   "execution_count": null,
   "id": "3413665b-6120-42f0-8315-50fed933d183",
   "metadata": {},
   "outputs": [],
   "source": [
    "sim7.run_sim()"
   ]
  },
  {
   "cell_type": "markdown",
   "id": "05730bb8-0a36-452b-a6c7-e495662a67b6",
   "metadata": {},
   "source": [
    "Unsurprisingly, we're out of time.  Before we can re-run the simulation, we have to reset, which we can do via the `reset_sim` method:"
   ]
  },
  {
   "cell_type": "code",
   "execution_count": null,
   "id": "32123401-d4e7-48df-8787-f0084c0a4450",
   "metadata": {},
   "outputs": [],
   "source": [
    "sim7.reset_sim?"
   ]
  },
  {
   "cell_type": "markdown",
   "id": "3693f1cf-0818-481a-ac9c-754ef605e028",
   "metadata": {},
   "source": [
    "Note that we have the option to generate entirely new planets (default) or to simply rewind the planets we already have back to their initial positions.  Let's try the latter:"
   ]
  },
  {
   "cell_type": "code",
   "execution_count": null,
   "id": "79aabea9-9edd-42de-8ba1-587c056e14dc",
   "metadata": {},
   "outputs": [],
   "source": [
    "sim7.reset_sim(genNewPlanets=False)"
   ]
  },
  {
   "cell_type": "code",
   "execution_count": null,
   "id": "920dd5f8-8ccd-4c99-baf0-802a576df3e1",
   "metadata": {},
   "outputs": [],
   "source": [
    "sim7.run_sim()"
   ]
  },
  {
   "cell_type": "markdown",
   "id": "a81d4483-1487-476c-aa08-60f354277b5d",
   "metadata": {},
   "source": [
    "We see that we ended up with the essentially the same mission schedule and outcomes as with our first attempt. "
   ]
  },
  {
   "cell_type": "markdown",
   "id": "8dfb4f06-b6d5-47d3-8f57-d4513a22d8f7",
   "metadata": {
    "tags": []
   },
   "source": [
    "# Exercise: Choose another star and re-create some or all of the integration time calculations\n",
    "\n",
    "Have fun!"
   ]
  },
  {
   "cell_type": "code",
   "execution_count": null,
   "id": "2aa52736-964b-4903-af2b-a9041fc271af",
   "metadata": {},
   "outputs": [],
   "source": []
  }
 ],
 "metadata": {
  "kernelspec": {
   "display_name": "Python 3 (ipykernel)",
   "language": "python",
   "name": "python3"
  },
  "language_info": {
   "codemirror_mode": {
    "name": "ipython",
    "version": 3
   },
   "file_extension": ".py",
   "mimetype": "text/x-python",
   "name": "python",
   "nbconvert_exporter": "python",
   "pygments_lexer": "ipython3",
   "version": "3.10.13"
  }
 },
 "nbformat": 4,
 "nbformat_minor": 5
}
